{
 "cells": [
  {
   "cell_type": "markdown",
   "id": "62199de9-a849-42e0-ae83-dab6153a6dca",
   "metadata": {},
   "source": [
    "## 1)"
   ]
  },
  {
   "cell_type": "code",
   "execution_count": null,
   "id": "e9097bbb-4ce0-4bf2-a2ad-1b1f667b676a",
   "metadata": {},
   "outputs": [],
   "source": [
    "1) a='Pwskills'\n",
    "\n",
    "2) l=[4,9,6,'pwlabs',5.3]\n",
    "\n",
    "3) f=5.2\n",
    "\n",
    "4) t=(5,6,8)"
   ]
  },
  {
   "cell_type": "markdown",
   "id": "a10b10c1-f999-4c4b-8f1f-87fb7af8cc32",
   "metadata": {},
   "source": [
    "## 2)"
   ]
  },
  {
   "cell_type": "code",
   "execution_count": null,
   "id": "b3e8fbbc-2af2-4a58-a884-4e4b0ed4398c",
   "metadata": {},
   "outputs": [],
   "source": [
    "1) var1=String\n",
    "\n",
    "2) var2=String\n",
    "\n",
    "3) var3=List\n",
    "\n",
    "4) var4=Float"
   ]
  },
  {
   "cell_type": "markdown",
   "id": "2088cff6-2ca3-4d5e-ba45-5c113c079e23",
   "metadata": {},
   "source": [
    "## 3)"
   ]
  },
  {
   "cell_type": "markdown",
   "id": "c44760ea-c49c-4d7c-a04e-0553853246a2",
   "metadata": {},
   "source": [
    "- 1) / (Division Operator):\n",
    "This operator is used for division, performing floating-point division when dividing two numbers. It returns the quotient as a floating point number.\n",
    "- Example-\n"
   ]
  },
  {
   "cell_type": "code",
   "execution_count": 4,
   "id": "25239340-0b78-4d33-a22d-ab721db8d8a1",
   "metadata": {},
   "outputs": [
    {
     "data": {
      "text/plain": [
       "2.5"
      ]
     },
     "execution_count": 4,
     "metadata": {},
     "output_type": "execute_result"
    }
   ],
   "source": [
    "5/2"
   ]
  },
  {
   "cell_type": "markdown",
   "id": "ee85688e-c843-4b0a-bddb-09ac8f126034",
   "metadata": {},
   "source": [
    "- 2) % (Modulus Operator):\n",
    "This operator returns the remainder when one number is divided by another. It's often used to check if a number is divisible by another.\n",
    "- Example-"
   ]
  },
  {
   "cell_type": "code",
   "execution_count": 5,
   "id": "0591d828-f5bd-466d-bdbd-83df34c70a4c",
   "metadata": {},
   "outputs": [
    {
     "data": {
      "text/plain": [
       "1"
      ]
     },
     "execution_count": 5,
     "metadata": {},
     "output_type": "execute_result"
    }
   ],
   "source": [
    "9%2"
   ]
  },
  {
   "cell_type": "markdown",
   "id": "943c30c4-ae71-4fa7-bdfd-a5238f3d4107",
   "metadata": {},
   "source": [
    "- 3) // (Floor Division Operator):\n",
    "This operator is used for floor division, which returns the integer part of the quotient without the fractional part.\n",
    "- Example-"
   ]
  },
  {
   "cell_type": "code",
   "execution_count": 6,
   "id": "f264ced5-4a5d-4d5a-98ca-cf4da43a1055",
   "metadata": {},
   "outputs": [
    {
     "data": {
      "text/plain": [
       "22"
      ]
     },
     "execution_count": 6,
     "metadata": {},
     "output_type": "execute_result"
    }
   ],
   "source": [
    "45//2"
   ]
  },
  {
   "cell_type": "markdown",
   "id": "b66693d3-83c1-476d-9ee8-21e813592cdd",
   "metadata": {},
   "source": [
    "- 4) ** (Exponentiation Operator):\n",
    "This operator is used for exponentiation, raising a number to the power of another number.\n",
    "- Example-"
   ]
  },
  {
   "cell_type": "code",
   "execution_count": 8,
   "id": "740e2e1c-8959-4b4f-bbbc-23c12829a62a",
   "metadata": {},
   "outputs": [
    {
     "data": {
      "text/plain": [
       "125"
      ]
     },
     "execution_count": 8,
     "metadata": {},
     "output_type": "execute_result"
    }
   ],
   "source": [
    "5**3"
   ]
  },
  {
   "cell_type": "markdown",
   "id": "c8ce53c2-3427-4a51-833e-277f442f5949",
   "metadata": {},
   "source": [
    "## 4)"
   ]
  },
  {
   "cell_type": "code",
   "execution_count": 9,
   "id": "163ae944-bcbd-4540-909e-273930a90540",
   "metadata": {},
   "outputs": [],
   "source": [
    "list=[25, \"pwskills\",{\"apple\", \"banana\", \"cherry\"}, 8.25, True, [86, 23, 25], {'name': 'aniket', 'age': 20}, (5, 6), None , 7.5]"
   ]
  },
  {
   "cell_type": "code",
   "execution_count": 10,
   "id": "50bd0d5b-3195-43c6-8c1d-f7f250598d06",
   "metadata": {},
   "outputs": [
    {
     "name": "stdout",
     "output_type": "stream",
     "text": [
      "25\n",
      "pwskills\n",
      "{'banana', 'cherry', 'apple'}\n",
      "8.25\n",
      "True\n",
      "[86, 23, 25]\n",
      "{'name': 'aniket', 'age': 20}\n",
      "(5, 6)\n",
      "None\n",
      "7.5\n",
      "<class 'int'>\n",
      "<class 'str'>\n",
      "<class 'set'>\n",
      "<class 'float'>\n",
      "<class 'bool'>\n",
      "<class 'list'>\n",
      "<class 'dict'>\n",
      "<class 'tuple'>\n",
      "<class 'NoneType'>\n",
      "<class 'float'>\n"
     ]
    }
   ],
   "source": [
    "for i in list:\n",
    "    print (i)\n",
    "for i in list:\n",
    "    print(type(i))"
   ]
  },
  {
   "cell_type": "markdown",
   "id": "a8412de8-1c7e-4e12-b179-fb33f3b7ae35",
   "metadata": {},
   "source": [
    "## 5)"
   ]
  },
  {
   "cell_type": "code",
   "execution_count": 11,
   "id": "fcf64046-18d2-48a3-8dad-94235a413bfa",
   "metadata": {},
   "outputs": [
    {
     "name": "stdin",
     "output_type": "stream",
     "text": [
      "Enter the value of A 16\n",
      "Enter the value of B 2\n"
     ]
    },
    {
     "name": "stdout",
     "output_type": "stream",
     "text": [
      "Number A is divisible by number B 4 times.\n"
     ]
    }
   ],
   "source": [
    "A=int(input('Enter the value of A'))\n",
    "B=int(input('Enter the value of B'))\n",
    "count=0\n",
    "\n",
    "while B!=0 and A>=B:\n",
    "    if A%B==0:\n",
    "        count+=1\n",
    "        A=A/B\n",
    "    else:\n",
    "        break\n",
    "if A != 0:\n",
    "    print(\"Number A is divisible by number B\", count, \"times.\")\n",
    "else:\n",
    "    print(\"Number A is not purely divisible by number B.\")      "
   ]
  },
  {
   "cell_type": "markdown",
   "id": "7446043b-9482-4fa9-9148-d86115a3730c",
   "metadata": {},
   "source": [
    "## 6)"
   ]
  },
  {
   "cell_type": "code",
   "execution_count": 12,
   "id": "7f5a1426-efcc-466b-8439-c73920d6a3bd",
   "metadata": {},
   "outputs": [
    {
     "name": "stdout",
     "output_type": "stream",
     "text": [
      "1\n",
      "2\n",
      "3\n",
      "4\n",
      "5\n",
      "6\n",
      "7\n",
      "8\n",
      "9\n",
      "10\n",
      "11\n",
      "12\n",
      "13\n",
      "14\n",
      "15\n",
      "16\n",
      "17\n",
      "18\n",
      "19\n",
      "20\n",
      "21\n",
      "22\n",
      "23\n",
      "24\n",
      "25\n",
      "number is not divisible by 3\n",
      "number is not divisible by 3\n",
      "number is divisible by 3\n",
      "number is not divisible by 3\n",
      "number is not divisible by 3\n",
      "number is divisible by 3\n",
      "number is not divisible by 3\n",
      "number is not divisible by 3\n",
      "number is divisible by 3\n",
      "number is not divisible by 3\n",
      "number is not divisible by 3\n",
      "number is divisible by 3\n",
      "number is not divisible by 3\n",
      "number is not divisible by 3\n",
      "number is divisible by 3\n",
      "number is not divisible by 3\n",
      "number is not divisible by 3\n",
      "number is divisible by 3\n",
      "number is not divisible by 3\n",
      "number is not divisible by 3\n",
      "number is divisible by 3\n",
      "number is not divisible by 3\n",
      "number is not divisible by 3\n",
      "number is divisible by 3\n",
      "number is not divisible by 3\n"
     ]
    }
   ],
   "source": [
    "## To create list\n",
    "list=range(1,26)\n",
    "for i in list:\n",
    "    print(i)\n",
    "## To check divisibility    \n",
    "for i in list:\n",
    "    if i%3==0:\n",
    "        print('number is divisible by 3')\n",
    "    else:\n",
    "        print('number is not divisible by 3')"
   ]
  },
  {
   "cell_type": "markdown",
   "id": "81650cb7-1fce-4833-98c4-dc06ec47601c",
   "metadata": {},
   "source": [
    "## 7)"
   ]
  },
  {
   "cell_type": "markdown",
   "id": "27ad9740-a0ed-4702-a299-9c6593fac0b1",
   "metadata": {},
   "source": [
    "- Mutable Data Type= Mutable data types are those whose values can be changed after they are created.\n",
    "Examples of mutable data types include lists, dictionaries, and sets in Python.\n",
    " \n",
    "\n"
   ]
  },
  {
   "cell_type": "code",
   "execution_count": 13,
   "id": "ef452d17-7c33-4f6e-a019-de4d48504bd0",
   "metadata": {},
   "outputs": [
    {
     "data": {
      "text/plain": [
       "[1, 5, 9, 3, 'aniket', (5-2j), True, 'abhay']"
      ]
     },
     "execution_count": 13,
     "metadata": {},
     "output_type": "execute_result"
    }
   ],
   "source": [
    "## Code\n",
    "list=[1,5,9,3,'aniket',5-2j,True,56.45]  \n",
    "\n",
    "list[7]='abhay'  \n",
    "\n",
    "list"
   ]
  },
  {
   "cell_type": "markdown",
   "id": "2797c314-6d1f-4f65-8938-fcef94d77c0a",
   "metadata": {},
   "source": [
    "- Immutable Data Type= Immutable data types are those whose values cannot be changed after they are created.\n",
    "- Examples of immutable data types include integers, floats, strings, tuples in Python"
   ]
  },
  {
   "cell_type": "code",
   "execution_count": 14,
   "id": "b02b5c4f-1a4a-44ad-b572-1d8c9eb50866",
   "metadata": {},
   "outputs": [
    {
     "ename": "TypeError",
     "evalue": "'str' object does not support item assignment",
     "output_type": "error",
     "traceback": [
      "\u001b[0;31m---------------------------------------------------------------------------\u001b[0m",
      "\u001b[0;31mTypeError\u001b[0m                                 Traceback (most recent call last)",
      "Cell \u001b[0;32mIn[14], line 3\u001b[0m\n\u001b[1;32m      1\u001b[0m \u001b[38;5;66;03m## Code\u001b[39;00m\n\u001b[1;32m      2\u001b[0m a\u001b[38;5;241m=\u001b[39m\u001b[38;5;124m'\u001b[39m\u001b[38;5;124mpwskills\u001b[39m\u001b[38;5;124m'\u001b[39m\n\u001b[0;32m----> 3\u001b[0m \u001b[43ma\u001b[49m\u001b[43m[\u001b[49m\u001b[38;5;241;43m2\u001b[39;49m\u001b[43m]\u001b[49m\u001b[38;5;241m=\u001b[39m\u001b[38;5;124m'\u001b[39m\u001b[38;5;124mg\u001b[39m\u001b[38;5;124m'\u001b[39m\n\u001b[1;32m      4\u001b[0m a\n",
      "\u001b[0;31mTypeError\u001b[0m: 'str' object does not support item assignment"
     ]
    }
   ],
   "source": [
    "## Code\n",
    "a='pwskills'\n",
    "a[2]='g'\n",
    "a"
   ]
  },
  {
   "cell_type": "code",
   "execution_count": null,
   "id": "2edcdbd0-415b-47ea-b432-0748662b6950",
   "metadata": {},
   "outputs": [],
   "source": []
  }
 ],
 "metadata": {
  "kernelspec": {
   "display_name": "Python 3 (ipykernel)",
   "language": "python",
   "name": "python3"
  },
  "language_info": {
   "codemirror_mode": {
    "name": "ipython",
    "version": 3
   },
   "file_extension": ".py",
   "mimetype": "text/x-python",
   "name": "python",
   "nbconvert_exporter": "python",
   "pygments_lexer": "ipython3",
   "version": "3.10.8"
  }
 },
 "nbformat": 4,
 "nbformat_minor": 5
}
